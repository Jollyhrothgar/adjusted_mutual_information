{
 "cells": [
  {
   "cell_type": "code",
   "execution_count": 1,
   "metadata": {
    "ExecuteTime": {
     "end_time": "2019-08-19T04:00:53.024554Z",
     "start_time": "2019-08-19T04:00:50.701450Z"
    },
    "colab": {},
    "colab_type": "code",
    "id": "j_SBvKeb6MgW"
   },
   "outputs": [],
   "source": [
    "import numpy as np\n",
    "import pandas as pd\n",
    "import seaborn as sns\n",
    "from sklearn.metrics import adjusted_mutual_info_score as ami"
   ]
  },
  {
   "cell_type": "markdown",
   "metadata": {
    "colab_type": "text",
    "id": "DLieaW646sO2"
   },
   "source": [
    "# Adjusted Mutual Information\n",
    "\n",
    "Here, we simulate a survey where there are two questions - the first question\n",
    "has four possible answers - A, B, C, or D. Another question is a satisfaction\n",
    "score - which is \"Very Satisfied\", \"Neutral\" or \"Very Dissatisfied\". We \n",
    "engineer the survey responses such that $P(Satisfied|A) = 80%$, and otherwise \n",
    "there is no correlation between A, B, C, or D and satisfaction.\n"
   ]
  },
  {
   "cell_type": "code",
   "execution_count": 2,
   "metadata": {
    "ExecuteTime": {
     "end_time": "2019-08-19T04:00:53.058771Z",
     "start_time": "2019-08-19T04:00:53.027172Z"
    },
    "colab": {},
    "colab_type": "code",
    "id": "DpOHWEs96R-X"
   },
   "outputs": [],
   "source": [
    "survey = []\n",
    "alpha = None\n",
    "for i in range (1000):\n",
    "  satisfaction = np.random.choice([\"Very Satisfied\", \"Neutral\", \"Very Dissatisfied\"])\n",
    "  \n",
    "  # Now, we introduce non random correlation with Very Satisfied\n",
    "  if satisfaction == \"Very Satisfied\":\n",
    "    if np.random.rand() >= 0.2:\n",
    "      alpha = \"A\"\n",
    "  else:\n",
    "    alpha = np.random.choice(['A','B','C','D'])\n",
    "  # Note that alpha can be 'A' randomly - this introduces some noise. Sometimes,\n",
    "  # \"Very Satisfied\" and \"A\" coincide by random chance - even though the \"true\"\n",
    "  # distribution that characterizes the dependence between \"Very Satisfied\" and\n",
    "  # \"A\" is 80% probability. The difference between the true probability and the\n",
    "  # measured probability when we use a model is called \"irreducible error\".\n",
    "  survey.append((alpha, satisfaction))"
   ]
  },
  {
   "cell_type": "code",
   "execution_count": 3,
   "metadata": {
    "ExecuteTime": {
     "end_time": "2019-08-19T04:00:53.101462Z",
     "start_time": "2019-08-19T04:00:53.061946Z"
    },
    "colab": {},
    "colab_type": "code",
    "id": "RdplVks99UiP"
   },
   "outputs": [],
   "source": [
    "# For ease of making plots\n",
    "results = pd.DataFrame(survey, columns=[\"Q1\", \"Satisfaction\"])"
   ]
  },
  {
   "cell_type": "code",
   "execution_count": 4,
   "metadata": {
    "ExecuteTime": {
     "end_time": "2019-08-19T04:00:53.209971Z",
     "start_time": "2019-08-19T04:00:53.109194Z"
    },
    "colab": {},
    "colab_type": "code",
    "id": "uGrcnn2A9VYq"
   },
   "outputs": [],
   "source": [
    "# Summarize Conditional Probabilities\n",
    "probabilities = results.groupby('Satisfaction')['Q1'].value_counts() / results.groupby('Satisfaction')['Q1'].count()\n",
    "probabilities = probabilities.rename('probability').reset_index().sort_values(by=['Satisfaction','Q1'])"
   ]
  },
  {
   "cell_type": "code",
   "execution_count": 5,
   "metadata": {
    "ExecuteTime": {
     "end_time": "2019-08-19T04:00:53.274684Z",
     "start_time": "2019-08-19T04:00:53.213183Z"
    },
    "colab": {
     "height": 408
    },
    "colab_type": "code",
    "executionInfo": {
     "elapsed": 360,
     "status": "ok",
     "timestamp": 1566069313466,
     "user": {
      "displayName": "Mike Beaumier",
      "photoUrl": "https://lh3.googleusercontent.com/a-/AAuE7mCu1P1V6ppL_tJ4872MGy8hxK8mGLGiSvKaUPUeUg=s64",
      "userId": "01071040581420345568"
     },
     "user_tz": 420
    },
    "id": "fz4NIEx895HM",
    "outputId": "d332a83a-1130-4e36-fed9-f627a052c8e2"
   },
   "outputs": [
    {
     "data": {
      "text/html": [
       "<div>\n",
       "<style scoped>\n",
       "    .dataframe tbody tr th:only-of-type {\n",
       "        vertical-align: middle;\n",
       "    }\n",
       "\n",
       "    .dataframe tbody tr th {\n",
       "        vertical-align: top;\n",
       "    }\n",
       "\n",
       "    .dataframe thead th {\n",
       "        text-align: right;\n",
       "    }\n",
       "</style>\n",
       "<table border=\"1\" class=\"dataframe\">\n",
       "  <thead>\n",
       "    <tr style=\"text-align: right;\">\n",
       "      <th></th>\n",
       "      <th>Satisfaction</th>\n",
       "      <th>Q1</th>\n",
       "      <th>probability</th>\n",
       "    </tr>\n",
       "  </thead>\n",
       "  <tbody>\n",
       "    <tr>\n",
       "      <th>0</th>\n",
       "      <td>Neutral</td>\n",
       "      <td>A</td>\n",
       "      <td>0.253602</td>\n",
       "    </tr>\n",
       "    <tr>\n",
       "      <th>3</th>\n",
       "      <td>Neutral</td>\n",
       "      <td>B</td>\n",
       "      <td>0.244957</td>\n",
       "    </tr>\n",
       "    <tr>\n",
       "      <th>1</th>\n",
       "      <td>Neutral</td>\n",
       "      <td>C</td>\n",
       "      <td>0.253602</td>\n",
       "    </tr>\n",
       "    <tr>\n",
       "      <th>2</th>\n",
       "      <td>Neutral</td>\n",
       "      <td>D</td>\n",
       "      <td>0.247839</td>\n",
       "    </tr>\n",
       "    <tr>\n",
       "      <th>6</th>\n",
       "      <td>Very Dissatisfied</td>\n",
       "      <td>A</td>\n",
       "      <td>0.233766</td>\n",
       "    </tr>\n",
       "    <tr>\n",
       "      <th>4</th>\n",
       "      <td>Very Dissatisfied</td>\n",
       "      <td>B</td>\n",
       "      <td>0.288961</td>\n",
       "    </tr>\n",
       "    <tr>\n",
       "      <th>5</th>\n",
       "      <td>Very Dissatisfied</td>\n",
       "      <td>C</td>\n",
       "      <td>0.253247</td>\n",
       "    </tr>\n",
       "    <tr>\n",
       "      <th>7</th>\n",
       "      <td>Very Dissatisfied</td>\n",
       "      <td>D</td>\n",
       "      <td>0.224026</td>\n",
       "    </tr>\n",
       "    <tr>\n",
       "      <th>8</th>\n",
       "      <td>Very Satisfied</td>\n",
       "      <td>A</td>\n",
       "      <td>0.886957</td>\n",
       "    </tr>\n",
       "    <tr>\n",
       "      <th>10</th>\n",
       "      <td>Very Satisfied</td>\n",
       "      <td>B</td>\n",
       "      <td>0.037681</td>\n",
       "    </tr>\n",
       "    <tr>\n",
       "      <th>9</th>\n",
       "      <td>Very Satisfied</td>\n",
       "      <td>C</td>\n",
       "      <td>0.043478</td>\n",
       "    </tr>\n",
       "    <tr>\n",
       "      <th>11</th>\n",
       "      <td>Very Satisfied</td>\n",
       "      <td>D</td>\n",
       "      <td>0.031884</td>\n",
       "    </tr>\n",
       "  </tbody>\n",
       "</table>\n",
       "</div>"
      ],
      "text/plain": [
       "         Satisfaction Q1  probability\n",
       "0             Neutral  A     0.253602\n",
       "3             Neutral  B     0.244957\n",
       "1             Neutral  C     0.253602\n",
       "2             Neutral  D     0.247839\n",
       "6   Very Dissatisfied  A     0.233766\n",
       "4   Very Dissatisfied  B     0.288961\n",
       "5   Very Dissatisfied  C     0.253247\n",
       "7   Very Dissatisfied  D     0.224026\n",
       "8      Very Satisfied  A     0.886957\n",
       "10     Very Satisfied  B     0.037681\n",
       "9      Very Satisfied  C     0.043478\n",
       "11     Very Satisfied  D     0.031884"
      ]
     },
     "execution_count": 5,
     "metadata": {},
     "output_type": "execute_result"
    }
   ],
   "source": [
    "probabilities"
   ]
  },
  {
   "cell_type": "code",
   "execution_count": 6,
   "metadata": {
    "ExecuteTime": {
     "end_time": "2019-08-19T04:00:53.896502Z",
     "start_time": "2019-08-19T04:00:53.277434Z"
    },
    "colab": {
     "height": 301
    },
    "colab_type": "code",
    "executionInfo": {
     "elapsed": 823,
     "status": "ok",
     "timestamp": 1566069316232,
     "user": {
      "displayName": "Mike Beaumier",
      "photoUrl": "https://lh3.googleusercontent.com/a-/AAuE7mCu1P1V6ppL_tJ4872MGy8hxK8mGLGiSvKaUPUeUg=s64",
      "userId": "01071040581420345568"
     },
     "user_tz": 420
    },
    "id": "Z7NVbORF_sLg",
    "outputId": "1743621b-a21b-4e01-c316-ffbbb417e1d6"
   },
   "outputs": [
    {
     "name": "stderr",
     "output_type": "stream",
     "text": [
      "/home/mikebeaumier/anaconda3/lib/python3.6/site-packages/seaborn/categorical.py:1508: FutureWarning: remove_na is deprecated and is a private function. Do not use.\n",
      "  stat_data = remove_na(group_data[hue_mask])\n"
     ]
    },
    {
     "data": {
      "text/plain": [
       "<matplotlib.axes._subplots.AxesSubplot at 0x7a0695ad4fd0>"
      ]
     },
     "execution_count": 6,
     "metadata": {},
     "output_type": "execute_result"
    },
    {
     "data": {
      "image/png": "[encoded data removed]",
      "text/plain": [
       "<matplotlib.figure.Figure at 0x7a0695ad4be0>"
      ]
     },
     "metadata": {
      "needs_background": "light"
     },
     "output_type": "display_data"
    }
   ],
   "source": [
    "sns.barplot(data=probabilities, x='Satisfaction', y='probability', hue='Q1')"
   ]
  },
  {
   "cell_type": "markdown",
   "metadata": {},
   "source": [
    "Note above that due to sampling (which exists in the real world) we don't recover the exact probabilities of the underlying probability structure. In this case, we know that $P(Q_{1}\\vert Neutral)$ is uniformly distributed, but you can see in the data that there are variations that seem to indicate that the probabilities are slightly different. We can never be perfect in this respect, which is why we must always hold ourselves accountable with confidence intervals, power analyses, and other tools that help us understand how confident we can be in our results, given our data."
   ]
  },
  {
   "cell_type": "markdown",
   "metadata": {},
   "source": [
    "# Calculate Mutual Information\n",
    "\n",
    "We can calculate the mutual information for discrete variables using the formula defined as:\n",
    "\n",
    "$${I} (X;Y)=\\sum _{y\\in {\\mathcal {Y}}}\\sum _{x\\in {\\mathcal {X}}}{p_{(X,Y)}(x,y)\\log {\\left({\\frac {p_{(X,Y)}(x,y)}{p_{X}(x)\\,p_{Y}(y)}}\\right)}}$$\n",
    "\n",
    "Where  $p_{(X,Y)}$ is the joint probability mass function for $X$ and $Y$ and  $p_{X}$ and $p_{Y}$ are the marginal probability distributions.\n",
    "\n",
    "The joint probability distribution associating two discrete random variables can be thought of as a look up table that returns the probability of all combinations of the values the variables can take on.\n",
    "\n",
    "The marginal distribution is obtained from the joint by:\n",
    "\n",
    "<table class=\"wikitable\" style=\"text-align: center; width:350px; margin: 1em auto 1em auto;\">\n",
    "<tbody><tr>\n",
    "<th style=\"background:linear-gradient(to top right,#eaecf0 49.5%,#aaa 49.5%,#aaa 50.5%,#eaecf0 50.5%);line-height:1;\"><div style=\"margin-left:2em;text-align:right;\"><i>X</i></div><div style=\"margin-right:2em;text-align:left;\"><i>Y</i></div></th>\n",
    "<th><i>x</i><sub>1</sub></th>\n",
    "<th><i>x</i><sub>2</sub></th>\n",
    "<th><i>x</i><sub>3</sub></th>\n",
    "<th><i>x</i><sub>4</sub></th>\n",
    "<th><i>p<sub>Y</sub></i>(<i>y</i>)&#160;↓\n",
    "</th></tr>\n",
    "<tr>\n",
    "<th><i>y</i><sub>1</sub>\n",
    "</th>\n",
    "<td>4/32</td>\n",
    "<td>2/32</td>\n",
    "<td>1/32</td>\n",
    "<td>1/32\n",
    "</td>\n",
    "<th>&#160;&#160;8/32\n",
    "</th></tr>\n",
    "<tr>\n",
    "<th><i>y</i><sub>2</sub>\n",
    "</th>\n",
    "<td>3/32</td>\n",
    "<td>6/32</td>\n",
    "<td>3/32</td>\n",
    "<td>3/32\n",
    "</td>\n",
    "<th>15/32\n",
    "</th></tr>\n",
    "<tr>\n",
    "<th><i>y</i><sub>3</sub>\n",
    "</th>\n",
    "<td>9/32</td>\n",
    "<td>0</td>\n",
    "<td>0</td>\n",
    "<td>0\n",
    "</td>\n",
    "<th>&#160;&#160;9/32\n",
    "</th></tr>\n",
    "<tr>\n",
    "<th><i>p<sub>X</sub></i>(<i>x</i>)&#160;→\n",
    "</th>\n",
    "<th>16/32</th>\n",
    "<th>8/32</th>\n",
    "<th>4/32</th>\n",
    "<th>4/32\n",
    "</th>\n",
    "<th>32/32\n",
    "</th></tr>\n",
    "<tr>\n",
    "<td colspan=\"6\">Joint and marginal distributions of a pair of discrete random variables, <i>X</i> and&#160;<i>Y</i>, having nonzero <a href=\"/wiki/Mutual_information\" title=\"Mutual information\">mutual information</a> <i>I</i>(<i>X</i>;&#160;<i>Y</i>). The values of the joint distribution are in the 3×4 rectangle; the values of the marginal distributions are along the right and bottom margins.\n",
    "</td></tr></tbody></table>\n",
    "\n",
    "Finally, the conditional distribution is obtained by dividing the joint distribution by the marginal distribution, e.g.:\n",
    "\n",
    "$$p(X\\vert Y) = {{p(X,Y)}\\over{p(Y)}}$$\n"
   ]
  },
  {
   "cell_type": "markdown",
   "metadata": {},
   "source": [
    "Here, the mutual information is the double sum over the probabilities of the associated joint distributions and conditional distributions associated with the values that $x$ and $y$ can take on, which in this case are characterized by:\n",
    "\n",
    "$$ x \\in (A,B,C,D)$$\n",
    "and\n",
    "$$ y \\in (\"Very\\ Satisfied\",\\ \"Neutral\",\\ \"Very\\ Disatisfied\")$$"
   ]
  },
  {
   "cell_type": "markdown",
   "metadata": {
    "ExecuteTime": {
     "end_time": "2019-08-18T22:27:58.843146Z",
     "start_time": "2019-08-18T22:27:58.836624Z"
    }
   },
   "source": [
    "## Calculate the probability distributions"
   ]
  },
  {
   "cell_type": "code",
   "execution_count": 7,
   "metadata": {
    "ExecuteTime": {
     "end_time": "2019-08-19T04:00:53.995717Z",
     "start_time": "2019-08-19T04:00:53.900059Z"
    }
   },
   "outputs": [
    {
     "data": {
      "text/html": [
       "<div>\n",
       "<style scoped>\n",
       "    .dataframe tbody tr th:only-of-type {\n",
       "        vertical-align: middle;\n",
       "    }\n",
       "\n",
       "    .dataframe tbody tr th {\n",
       "        vertical-align: top;\n",
       "    }\n",
       "\n",
       "    .dataframe thead th {\n",
       "        text-align: right;\n",
       "    }\n",
       "</style>\n",
       "<table border=\"1\" class=\"dataframe\">\n",
       "  <thead>\n",
       "    <tr style=\"text-align: right;\">\n",
       "      <th>Satisfaction</th>\n",
       "      <th>Neutral</th>\n",
       "      <th>Very Dissatisfied</th>\n",
       "      <th>Very Satisfied</th>\n",
       "      <th>All</th>\n",
       "    </tr>\n",
       "    <tr>\n",
       "      <th>Q1</th>\n",
       "      <th></th>\n",
       "      <th></th>\n",
       "      <th></th>\n",
       "      <th></th>\n",
       "    </tr>\n",
       "  </thead>\n",
       "  <tbody>\n",
       "    <tr>\n",
       "      <th>A</th>\n",
       "      <td>0.088</td>\n",
       "      <td>0.072</td>\n",
       "      <td>0.306</td>\n",
       "      <td>0.466</td>\n",
       "    </tr>\n",
       "    <tr>\n",
       "      <th>B</th>\n",
       "      <td>0.085</td>\n",
       "      <td>0.089</td>\n",
       "      <td>0.013</td>\n",
       "      <td>0.187</td>\n",
       "    </tr>\n",
       "    <tr>\n",
       "      <th>C</th>\n",
       "      <td>0.088</td>\n",
       "      <td>0.078</td>\n",
       "      <td>0.015</td>\n",
       "      <td>0.181</td>\n",
       "    </tr>\n",
       "    <tr>\n",
       "      <th>D</th>\n",
       "      <td>0.086</td>\n",
       "      <td>0.069</td>\n",
       "      <td>0.011</td>\n",
       "      <td>0.166</td>\n",
       "    </tr>\n",
       "    <tr>\n",
       "      <th>All</th>\n",
       "      <td>0.347</td>\n",
       "      <td>0.308</td>\n",
       "      <td>0.345</td>\n",
       "      <td>1.000</td>\n",
       "    </tr>\n",
       "  </tbody>\n",
       "</table>\n",
       "</div>"
      ],
      "text/plain": [
       "Satisfaction  Neutral  Very Dissatisfied  Very Satisfied    All\n",
       "Q1                                                             \n",
       "A               0.088              0.072           0.306  0.466\n",
       "B               0.085              0.089           0.013  0.187\n",
       "C               0.088              0.078           0.015  0.181\n",
       "D               0.086              0.069           0.011  0.166\n",
       "All             0.347              0.308           0.345  1.000"
      ]
     },
     "execution_count": 7,
     "metadata": {},
     "output_type": "execute_result"
    }
   ],
   "source": [
    "joint_with_margins = pd.crosstab(results['Q1'], results['Satisfaction'], margins=True, normalize=True)\n",
    "# we have the margins here for free.\n",
    "joint_with_margins"
   ]
  },
  {
   "cell_type": "code",
   "execution_count": 8,
   "metadata": {
    "ExecuteTime": {
     "end_time": "2019-08-19T04:00:54.200626Z",
     "start_time": "2019-08-19T04:00:54.184730Z"
    }
   },
   "outputs": [],
   "source": [
    "Q1_idx = ['A','B','C','D']\n",
    "Satisfaction_idx = ['Very Satisfied', 'Neutral', 'Very Dissatisfied']"
   ]
  },
  {
   "cell_type": "code",
   "execution_count": 9,
   "metadata": {
    "ExecuteTime": {
     "end_time": "2019-08-19T04:00:54.571672Z",
     "start_time": "2019-08-19T04:00:54.510829Z"
    }
   },
   "outputs": [
    {
     "data": {
      "text/html": [
       "<div>\n",
       "<style scoped>\n",
       "    .dataframe tbody tr th:only-of-type {\n",
       "        vertical-align: middle;\n",
       "    }\n",
       "\n",
       "    .dataframe tbody tr th {\n",
       "        vertical-align: top;\n",
       "    }\n",
       "\n",
       "    .dataframe thead th {\n",
       "        text-align: right;\n",
       "    }\n",
       "</style>\n",
       "<table border=\"1\" class=\"dataframe\">\n",
       "  <thead>\n",
       "    <tr style=\"text-align: right;\">\n",
       "      <th>Satisfaction</th>\n",
       "      <th>Very Satisfied</th>\n",
       "      <th>Neutral</th>\n",
       "      <th>Very Dissatisfied</th>\n",
       "    </tr>\n",
       "    <tr>\n",
       "      <th>Q1</th>\n",
       "      <th></th>\n",
       "      <th></th>\n",
       "      <th></th>\n",
       "    </tr>\n",
       "  </thead>\n",
       "  <tbody>\n",
       "    <tr>\n",
       "      <th>A</th>\n",
       "      <td>0.306</td>\n",
       "      <td>0.088</td>\n",
       "      <td>0.072</td>\n",
       "    </tr>\n",
       "    <tr>\n",
       "      <th>B</th>\n",
       "      <td>0.013</td>\n",
       "      <td>0.085</td>\n",
       "      <td>0.089</td>\n",
       "    </tr>\n",
       "    <tr>\n",
       "      <th>C</th>\n",
       "      <td>0.015</td>\n",
       "      <td>0.088</td>\n",
       "      <td>0.078</td>\n",
       "    </tr>\n",
       "    <tr>\n",
       "      <th>D</th>\n",
       "      <td>0.011</td>\n",
       "      <td>0.086</td>\n",
       "      <td>0.069</td>\n",
       "    </tr>\n",
       "  </tbody>\n",
       "</table>\n",
       "</div>"
      ],
      "text/plain": [
       "Satisfaction  Very Satisfied  Neutral  Very Dissatisfied\n",
       "Q1                                                      \n",
       "A                      0.306    0.088              0.072\n",
       "B                      0.013    0.085              0.089\n",
       "C                      0.015    0.088              0.078\n",
       "D                      0.011    0.086              0.069"
      ]
     },
     "execution_count": 9,
     "metadata": {},
     "output_type": "execute_result"
    }
   ],
   "source": [
    "joint = joint_with_margins.loc[Q1_idx, Satisfaction_idx]\n",
    "joint"
   ]
  },
  {
   "cell_type": "code",
   "execution_count": 10,
   "metadata": {
    "ExecuteTime": {
     "end_time": "2019-08-19T04:00:54.819921Z",
     "start_time": "2019-08-19T04:00:54.775651Z"
    }
   },
   "outputs": [
    {
     "data": {
      "text/plain": [
       "Satisfaction\n",
       "Very Satisfied       0.345\n",
       "Neutral              0.347\n",
       "Very Dissatisfied    0.308\n",
       "Name: All, dtype: float64"
      ]
     },
     "execution_count": 10,
     "metadata": {},
     "output_type": "execute_result"
    }
   ],
   "source": [
    "Satisfaction_marginal = joint_with_margins.loc['All',Satisfaction_idx]\n",
    "Satisfaction_marginal"
   ]
  },
  {
   "cell_type": "code",
   "execution_count": 11,
   "metadata": {
    "ExecuteTime": {
     "end_time": "2019-08-19T04:00:55.150710Z",
     "start_time": "2019-08-19T04:00:55.109148Z"
    }
   },
   "outputs": [
    {
     "data": {
      "text/plain": [
       "Q1\n",
       "A    0.466\n",
       "B    0.187\n",
       "C    0.181\n",
       "D    0.166\n",
       "Name: All, dtype: float64"
      ]
     },
     "execution_count": 11,
     "metadata": {},
     "output_type": "execute_result"
    }
   ],
   "source": [
    "Q1_marginal = joint_with_margins['All'].loc[Q1_idx]\n",
    "Q1_marginal"
   ]
  },
  {
   "cell_type": "code",
   "execution_count": 12,
   "metadata": {
    "ExecuteTime": {
     "end_time": "2019-08-19T04:00:55.525046Z",
     "start_time": "2019-08-19T04:00:55.459996Z"
    }
   },
   "outputs": [
    {
     "name": "stdout",
     "output_type": "stream",
     "text": [
      "Mutual Information 0.297303370729\n"
     ]
    }
   ],
   "source": [
    "mutual_information = []\n",
    "for q_i in Q1_idx:\n",
    "  for s_i in Satisfaction_idx:\n",
    "    joint_val = joint.loc[q_i, s_i]\n",
    "    q1_marginal_val = Q1_marginal.loc[q_i]\n",
    "    satisfaction_marginal_val = Satisfaction_marginal[s_i]\n",
    "    mutual_information_val = joint_val * np.log2(joint_val/(q1_marginal_val*satisfaction_marginal_val))\n",
    "#     print('Joint:',q_i, s_i, joint_val)\n",
    "#     print('Marginal Q1:', q1_marginal_val)\n",
    "#     print('Marginal Satisfaction:', satisfaction_marginal_val)\n",
    "#     print('Mutual Information Val:', mutual_information_val)\n",
    "    \n",
    "    mutual_information.append(mutual_information_val)\n",
    "\n",
    "print(\"Mutual Information\", sum(mutual_information))\n",
    "    "
   ]
  },
  {
   "cell_type": "code",
   "execution_count": null,
   "metadata": {},
   "outputs": [],
   "source": []
  },
  {
   "cell_type": "code",
   "execution_count": null,
   "metadata": {},
   "outputs": [],
   "source": []
  }
 ],
 "metadata": {
  "colab": {
   "last_runtime": {
    "build_target": "//learning/brain/python/client:colab_notebook_py3",
    "kind": "private"
   },
   "name": "Adjusted Mutual Information.ipynb",
   "provenance": [],
   "version": "0.3.2"
  },
  "hide_input": false,
  "kernelspec": {
   "display_name": "Python 3",
   "language": "python",
   "name": "python3"
  },
  "language_info": {
   "codemirror_mode": {
    "name": "ipython",
    "version": 3
   },
   "file_extension": ".py",
   "mimetype": "text/x-python",
   "name": "python",
   "nbconvert_exporter": "python",
   "pygments_lexer": "ipython3",
   "version": "3.6.6"
  }
 },
 "nbformat": 4,
 "nbformat_minor": 1
}
